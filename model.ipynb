{
 "cells": [
  {
   "cell_type": "code",
   "execution_count": 18,
   "metadata": {},
   "outputs": [],
   "source": [
    "import csv\n",
    "import cv2\n",
    "\n",
    "lines = []\n",
    "with open ('./data/driving_log.csv') as csvfile:\n",
    "    reader = csv.reader(csvfile)\n",
    "    for line in reader:\n",
    "        lines.append(line)\n",
    "\n",
    "imgs = []\n",
    "angles = []\n",
    "\n",
    "for line in lines:\n",
    "    source = line[0]\n",
    "    filename = source.split('/')[-1]\n",
    "    img_path = './data/IMG/%s' % filename\n",
    "    imgs.append(cv2.imread(img_path))\n",
    "    angles.append(float(line[3]))\n",
    "\n",
    "width = imgs[0].shape[1]\n",
    "height = imgs[0].shape[0]\n",
    "channels = imgs[0].shape[2]\n",
    "    "
   ]
  },
  {
   "cell_type": "code",
   "execution_count": 24,
   "metadata": {
    "collapsed": true
   },
   "outputs": [],
   "source": [
    "import numpy as np\n",
    "X_train = np.asarray(imgs)\n",
    "y_train = np.asarray(angles)"
   ]
  },
  {
   "cell_type": "code",
   "execution_count": 26,
   "metadata": {},
   "outputs": [],
   "source": [
    "from skimage.exposure import equalize_hist\n",
    "\n",
    "# Nomralize data\n",
    "X_train_normalized = equalize_hist(X_train)\n",
    "X_train_grayscale = np.sum(X_train_normalized/3, axis=3, keepdims=True)"
   ]
  },
  {
   "cell_type": "code",
   "execution_count": 31,
   "metadata": {},
   "outputs": [
    {
     "name": "stdout",
     "output_type": "stream",
     "text": [
      "Train on 786 samples, validate on 197 samples\n",
      "Epoch 1/7\n",
      "786/786 [==============================] - 1s - loss: 542.8180 - val_loss: 40.1883\n",
      "Epoch 2/7\n",
      "786/786 [==============================] - 1s - loss: 32.4302 - val_loss: 9.5512\n",
      "Epoch 3/7\n",
      "786/786 [==============================] - 1s - loss: 4.3815 - val_loss: 3.4438\n",
      "Epoch 4/7\n",
      "786/786 [==============================] - 1s - loss: 1.2826 - val_loss: 0.2432\n",
      "Epoch 5/7\n",
      "786/786 [==============================] - 1s - loss: 0.3914 - val_loss: 0.1827\n",
      "Epoch 6/7\n",
      "786/786 [==============================] - 1s - loss: 0.2594 - val_loss: 0.3740\n",
      "Epoch 7/7\n",
      "786/786 [==============================] - 1s - loss: 0.2493 - val_loss: 0.2163\n"
     ]
    }
   ],
   "source": [
    "from keras.models import Sequential\n",
    "from keras.layers import Flatten, Dense\n",
    "\n",
    "model = Sequential()\n",
    "model.add(Flatten(input_shape=(160, 320, 3)))\n",
    "model.add(Dense(1))\n",
    "\n",
    "model.compile(loss='mse', optimizer='adam')\n",
    "model.fit(X_train_normalized, y_train, validation_split=0.2, shuffle=True, nb_epoch=7)\n",
    "\n",
    "model.save('model.h5')"
   ]
  },
  {
   "cell_type": "code",
   "execution_count": null,
   "metadata": {
    "collapsed": true
   },
   "outputs": [],
   "source": []
  }
 ],
 "metadata": {
  "kernelspec": {
   "display_name": "Python 3",
   "language": "python",
   "name": "python3"
  },
  "language_info": {
   "codemirror_mode": {
    "name": "ipython",
    "version": 3
   },
   "file_extension": ".py",
   "mimetype": "text/x-python",
   "name": "python",
   "nbconvert_exporter": "python",
   "pygments_lexer": "ipython3",
   "version": "3.5.2"
  },
  "widgets": {
   "state": {},
   "version": "1.1.2"
  }
 },
 "nbformat": 4,
 "nbformat_minor": 2
}
